{
 "cells": [
  {
   "cell_type": "markdown",
   "id": "5a66d246",
   "metadata": {},
   "source": [
    "3. Make another API request that returns all the times \"codes\" was searched more than 100 times in a month. How many times did this occur? "
   ]
  },
  {
   "cell_type": "code",
   "execution_count": 37,
   "id": "cc6d4f19",
   "metadata": {},
   "outputs": [],
   "source": [
    "import requests\n",
    "import pandas as pd\n",
    "import matplotlib.pyplot as plt\n",
    "\n",
    "%matplotlib inline"
   ]
  },
  {
   "cell_type": "code",
   "execution_count": 38,
   "id": "c29942d7",
   "metadata": {},
   "outputs": [
    {
     "ename": "SyntaxError",
     "evalue": "invalid syntax (4267182831.py, line 4)",
     "output_type": "error",
     "traceback": [
      "\u001b[0;36m  Cell \u001b[0;32mIn[38], line 4\u001b[0;36m\u001b[0m\n\u001b[0;31m    \"$where\": \"query_count>100\",\u001b[0m\n\u001b[0m            ^\u001b[0m\n\u001b[0;31mSyntaxError\u001b[0m\u001b[0;31m:\u001b[0m invalid syntax\n"
     ]
    }
   ],
   "source": [
    "endpoint='https://data.nashville.gov/resource/fuaa-r5cm.json'\n",
    "params={\n",
    "        \"query_text\": \"codes\"\n",
    "        \"$where\": \"query_count>100\",\n",
    "        \"$limit\":\"50000\"\n",
    "}\n",
    "response = requests.get(endpoint, params = params)"
   ]
  },
  {
   "cell_type": "code",
   "execution_count": 39,
   "id": "43ad81ca",
   "metadata": {},
   "outputs": [
    {
     "data": {
      "text/plain": [
       "<Response [200]>"
      ]
     },
     "execution_count": 39,
     "metadata": {},
     "output_type": "execute_result"
    }
   ],
   "source": [
    "response"
   ]
  },
  {
   "cell_type": "code",
   "execution_count": 40,
   "id": "faa46af6",
   "metadata": {},
   "outputs": [
    {
     "data": {
      "text/plain": [
       "[{'month_name': 'September',\n",
       "  'year': '2015',\n",
       "  'query_count': '101',\n",
       "  'query_text': 'codes'},\n",
       " {'month_name': 'April',\n",
       "  'month': '4',\n",
       "  'year': '2021',\n",
       "  'query_count': '102',\n",
       "  'query_text': 'codes'},\n",
       " {'month_name': 'August',\n",
       "  'year': '2016',\n",
       "  'query_count': '104',\n",
       "  'query_text': 'codes'},\n",
       " {'month_name': 'November',\n",
       "  'month': '11',\n",
       "  'year': '2020',\n",
       "  'query_count': '104',\n",
       "  'query_text': 'codes'},\n",
       " {'month_name': 'December',\n",
       "  'year': '2017',\n",
       "  'query_count': '106',\n",
       "  'query_text': 'codes'},\n",
       " {'month_name': 'May',\n",
       "  'year': '2016',\n",
       "  'query_count': '107',\n",
       "  'query_text': 'codes'},\n",
       " {'month_name': 'April',\n",
       "  'year': '2016',\n",
       "  'query_count': '111',\n",
       "  'query_text': 'codes'},\n",
       " {'month_name': 'July',\n",
       "  'month': '7',\n",
       "  'year': '2021',\n",
       "  'query_count': '114',\n",
       "  'query_text': 'codes'},\n",
       " {'month_name': 'January',\n",
       "  'year': '2017',\n",
       "  'query_count': '115',\n",
       "  'query_text': 'codes'},\n",
       " {'month_name': 'May',\n",
       "  'month': '5',\n",
       "  'year': '2021',\n",
       "  'query_count': '115',\n",
       "  'query_text': 'codes'},\n",
       " {'month_name': 'August',\n",
       "  'year': '2015',\n",
       "  'query_count': '117',\n",
       "  'query_text': 'codes'},\n",
       " {'month_name': 'February',\n",
       "  'year': '2016',\n",
       "  'query_count': '121',\n",
       "  'query_text': 'codes'},\n",
       " {'month_name': 'February',\n",
       "  'month': '2',\n",
       "  'year': '2019',\n",
       "  'query_count': '124',\n",
       "  'query_text': 'codes'},\n",
       " {'month_name': 'June',\n",
       "  'month': '6',\n",
       "  'year': '2019',\n",
       "  'query_count': '125',\n",
       "  'query_text': 'codes'},\n",
       " {'month_name': 'September',\n",
       "  'month': '9',\n",
       "  'year': '2019',\n",
       "  'query_count': '126',\n",
       "  'query_text': 'codes'},\n",
       " {'month_name': 'January',\n",
       "  'month': '1',\n",
       "  'year': '2019',\n",
       "  'query_count': '129',\n",
       "  'query_text': 'codes'},\n",
       " {'month_name': 'September',\n",
       "  'month': '9',\n",
       "  'year': '2020',\n",
       "  'query_count': '130',\n",
       "  'query_text': 'codes'},\n",
       " {'month_name': 'February',\n",
       "  'month': '2',\n",
       "  'year': '2021',\n",
       "  'query_count': '131',\n",
       "  'query_text': 'codes'},\n",
       " {'month_name': 'March',\n",
       "  'month': '3',\n",
       "  'year': '2019',\n",
       "  'query_count': '133',\n",
       "  'query_text': 'codes'},\n",
       " {'month_name': 'November',\n",
       "  'month': '11',\n",
       "  'year': '2019',\n",
       "  'query_count': '134',\n",
       "  'query_text': 'codes'},\n",
       " {'month_name': 'March',\n",
       "  'month': '3',\n",
       "  'year': '2021',\n",
       "  'query_count': '134',\n",
       "  'query_text': 'codes'},\n",
       " {'month_name': 'November',\n",
       "  'year': '2017',\n",
       "  'query_count': '138',\n",
       "  'query_text': 'codes'},\n",
       " {'month_name': 'June',\n",
       "  'month': '6',\n",
       "  'year': '2021',\n",
       "  'query_count': '138',\n",
       "  'query_text': 'codes'},\n",
       " {'month_name': 'October',\n",
       "  'month': '10',\n",
       "  'year': '2020',\n",
       "  'query_count': '139',\n",
       "  'query_text': 'codes'},\n",
       " {'month_name': 'December',\n",
       "  'month': '12',\n",
       "  'year': '2019',\n",
       "  'query_count': '143',\n",
       "  'query_text': 'codes'},\n",
       " {'month_name': 'February',\n",
       "  'year': '2017',\n",
       "  'query_count': '150',\n",
       "  'query_text': 'codes'},\n",
       " {'month_name': 'August',\n",
       "  'month': '8',\n",
       "  'year': '2019',\n",
       "  'query_count': '156',\n",
       "  'query_text': 'codes'},\n",
       " {'month_name': 'March',\n",
       "  'year': '2017',\n",
       "  'query_count': '158',\n",
       "  'query_text': 'codes'},\n",
       " {'month_name': 'October',\n",
       "  'month': '10',\n",
       "  'year': '2019',\n",
       "  'query_count': '159',\n",
       "  'query_text': 'codes'},\n",
       " {'month_name': 'July',\n",
       "  'month': '7',\n",
       "  'year': '2019',\n",
       "  'query_count': '161',\n",
       "  'query_text': 'codes'},\n",
       " {'month_name': 'January',\n",
       "  'month': '1',\n",
       "  'year': '2020',\n",
       "  'query_count': '161',\n",
       "  'query_text': 'codes'},\n",
       " {'month_name': 'March',\n",
       "  'month': '3',\n",
       "  'year': '2020',\n",
       "  'query_count': '164',\n",
       "  'query_text': 'codes'},\n",
       " {'month_name': 'July',\n",
       "  'month': '7',\n",
       "  'year': '2020',\n",
       "  'query_count': '164',\n",
       "  'query_text': 'codes'},\n",
       " {'month_name': 'December',\n",
       "  'month': '12',\n",
       "  'year': '2020',\n",
       "  'query_count': '165',\n",
       "  'query_text': 'codes'},\n",
       " {'month_name': 'July',\n",
       "  'year': '2018',\n",
       "  'query_count': '166',\n",
       "  'query_text': 'codes'},\n",
       " {'month_name': 'September',\n",
       "  'year': '2017',\n",
       "  'query_count': '168',\n",
       "  'query_text': 'codes'},\n",
       " {'month_name': 'April',\n",
       "  'month': '4',\n",
       "  'year': '2019',\n",
       "  'query_count': '168',\n",
       "  'query_text': 'codes'},\n",
       " {'month_name': 'April',\n",
       "  'year': '2018',\n",
       "  'query_count': '170',\n",
       "  'query_text': 'codes'},\n",
       " {'month_name': 'September',\n",
       "  'year': '2018',\n",
       "  'query_count': '171',\n",
       "  'query_text': 'codes'},\n",
       " {'month_name': 'October',\n",
       "  'year': '2018',\n",
       "  'query_count': '174',\n",
       "  'query_text': 'codes'},\n",
       " {'month_name': 'August',\n",
       "  'month': '8',\n",
       "  'year': '2020',\n",
       "  'query_count': '178',\n",
       "  'query_text': 'codes'},\n",
       " {'month_name': 'February',\n",
       "  'month': '2',\n",
       "  'year': '2020',\n",
       "  'query_count': '181',\n",
       "  'query_text': 'codes'},\n",
       " {'month_name': 'May',\n",
       "  'year': '2018',\n",
       "  'query_count': '183',\n",
       "  'query_text': 'codes'},\n",
       " {'month_name': 'May',\n",
       "  'month': '5',\n",
       "  'year': '2020',\n",
       "  'query_count': '184',\n",
       "  'query_text': 'codes'},\n",
       " {'month_name': 'March',\n",
       "  'year': '2018',\n",
       "  'query_count': '185',\n",
       "  'query_text': 'codes'},\n",
       " {'month_name': 'April',\n",
       "  'year': '2017',\n",
       "  'query_count': '190',\n",
       "  'query_text': 'codes'},\n",
       " {'month_name': 'January',\n",
       "  'month': '1',\n",
       "  'year': '2021',\n",
       "  'query_count': '191',\n",
       "  'query_text': 'codes'},\n",
       " {'month_name': 'June',\n",
       "  'year': '2017',\n",
       "  'query_count': '192',\n",
       "  'query_text': 'codes'},\n",
       " {'month_name': 'November',\n",
       "  'year': '2018',\n",
       "  'query_count': '201',\n",
       "  'query_text': 'codes'},\n",
       " {'month_name': 'June',\n",
       "  'year': '2018',\n",
       "  'query_count': '204',\n",
       "  'query_text': 'codes'},\n",
       " {'month_name': 'October',\n",
       "  'year': '2017',\n",
       "  'query_count': '206',\n",
       "  'query_text': 'codes'},\n",
       " {'month_name': 'June',\n",
       "  'month': '6',\n",
       "  'year': '2020',\n",
       "  'query_count': '208',\n",
       "  'query_text': 'codes'},\n",
       " {'month_name': 'July',\n",
       "  'year': '2017',\n",
       "  'query_count': '215',\n",
       "  'query_text': 'codes'},\n",
       " {'month_name': 'August',\n",
       "  'year': '2017',\n",
       "  'query_count': '222',\n",
       "  'query_text': 'codes'},\n",
       " {'month_name': 'August',\n",
       "  'year': '2018',\n",
       "  'query_count': '225',\n",
       "  'query_text': 'codes'},\n",
       " {'month_name': 'May',\n",
       "  'year': '2017',\n",
       "  'query_count': '269',\n",
       "  'query_text': 'codes'}]"
      ]
     },
     "execution_count": 40,
     "metadata": {},
     "output_type": "execute_result"
    }
   ],
   "source": [
    "res = response.json()\n",
    "res"
   ]
  },
  {
   "cell_type": "code",
   "execution_count": 41,
   "id": "88d52d78",
   "metadata": {},
   "outputs": [],
   "source": [
    "codes = pd.DataFrame(res)"
   ]
  },
  {
   "cell_type": "code",
   "execution_count": 42,
   "id": "66f86588",
   "metadata": {},
   "outputs": [
    {
     "data": {
      "text/plain": [
       "array(['2015', '2021', '2016', '2020', '2017', '2019', '2018'],\n",
       "      dtype=object)"
      ]
     },
     "execution_count": 42,
     "metadata": {},
     "output_type": "execute_result"
    }
   ],
   "source": [
    "codes['year'].unique()"
   ]
  },
  {
   "cell_type": "code",
   "execution_count": 43,
   "id": "2430e6fc",
   "metadata": {},
   "outputs": [
    {
     "data": {
      "text/plain": [
       "(56, 5)"
      ]
     },
     "execution_count": 43,
     "metadata": {},
     "output_type": "execute_result"
    }
   ],
   "source": [
    "codes.shape"
   ]
  },
  {
   "cell_type": "markdown",
   "id": "fc85b21a",
   "metadata": {},
   "source": [
    "56 instances where \"codes\" was searched more than 100 times a month "
   ]
  }
 ],
 "metadata": {
  "kernelspec": {
   "display_name": "Python 3 (ipykernel)",
   "language": "python",
   "name": "python3"
  },
  "language_info": {
   "codemirror_mode": {
    "name": "ipython",
    "version": 3
   },
   "file_extension": ".py",
   "mimetype": "text/x-python",
   "name": "python",
   "nbconvert_exporter": "python",
   "pygments_lexer": "ipython3",
   "version": "3.11.5"
  }
 },
 "nbformat": 4,
 "nbformat_minor": 5
}
